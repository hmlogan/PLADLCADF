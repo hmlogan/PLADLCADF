{
 "cells": [
  {
   "cell_type": "markdown",
   "metadata": {},
   "source": [
    "# PLADLCADF\n",
    "## Plastic Additives (PLAD) Life Cycle Assessment (LCA) Data Finder (DF)\n",
    "Welcome to the Plastic Additives LCA Data Finder (PLAD LCA DF). This notebook is designed to help you search existing LCA databases to determine which additives have data coverage and are available for inclusion in your LCA. This database links state-of-the-art knowledge from both the Plastchem database (2024) and the UNEP chemicals in plastics database (2023) to additives coverage in the ecoinvent 3.9.1 & 3.10, LCA for Experts 2023, and CarbonMinds 2022 LCA databases following the approach developed in Logan et al. (2024). To read more about this method please refer to Logan et al (2024).\n",
    "\n",
    "To successfully execute the notebook, you will need to download the PLAD LCA DF folder from the GitHub repository and extract it in your chosen location. From there the notebook will prompt you to add the correct file path and run a fresh database for you. The LCA database (LCADB) and Additive database (ADDDB) files are updated occasionally so running a fresh database is recommended. If you would like to skip possible updates or correction and directly access the original database, you may open PLAD_LCADF_0524_v0.0.xlsx.\n",
    "\n",
    "The Plastic Additive LCA Data Finder (PLADLCADF) version 1.0 © 2024 by Heather Margaret Logan is licensed under Creative Commons Attribution-NonCommercial-ShareAlike (CC BY-NC-SA) 4.0 International. This means you are welcome to remix and adapt this work; however, it cannot be used for commercial purposes, you must credit the source, and license the resulting work under the same CC BY-NC-SA 4.0 international license. \n",
    "\n",
    "To cite the method for this tool please cite: Logan, H., S. DeMeester, T.F. Astrup, A. Damgaard. 2024. Additive Inclusion in Plastic Life Cycle Assessments, Part II: Review of additive inventory data trends and availability. Journal of Industrial Ecology. https://doi.org/10.1111/jiec.13534\n",
    "\n",
    "To cite the PLCA LCA DF v 1.0 please cite: Logan, H. 2024. Plastic Additives (PLAD) Life Cycle Assessment (LCA) Data Finder (DF). Version 1.0. https://github.com/hmlogan/PLADLCADF"
   ]
  },
  {
   "cell_type": "code",
   "execution_count": 2,
   "metadata": {},
   "outputs": [
    {
     "name": "stdout",
     "output_type": "stream",
     "text": [
      "Ready to go!\n"
     ]
    }
   ],
   "source": [
    "import pandas as pd \n",
    "\n",
    "path = input(\"please copy paste the file path where you have downloaded the plastic additive LCA data finder additive database(PLAD_LCADF_ADDDB_v1.0.xlsx)  on your computer\")\n",
    "# Then we format the returned string.\n",
    "path = path.replace(\"\\\\\",\"/\").replace('\"','').replace(\"'\",\"\")\n",
    "plad_excel_file_path = path\n",
    "\n",
    "\n",
    "plad_database_file = 'pladlcadatafinder.db'\n",
    "# We identify the sheet we want to process into the dataframe. if you change the sheet names you need to update this here. \n",
    "plad_sheet_name = 'plad'\n",
    "\n",
    "# Now we are going to check that the file path provided was correct.\n",
    "try:\n",
    "    plad_df = pd.read_excel(plad_excel_file_path, sheet_name=plad_sheet_name)\n",
    "    #If everything works we return the data frame (df).\n",
    "    print(\"Ready to go!\")\n",
    "except FileNotFoundError:\n",
    "    print(f\"Excel file '{plad_excel_file_path}' not found.\")\n",
    "    # If the file is incorrect, we re-prompt the user.\n",
    "    path = input(\"please copy paste the file path where you have downloaded the plastic additive LCA data finder additive database(PLAD_LCADF_ADDDB_v1.0.xlsx) on your computer\")\n",
    "except Exception as e: \n",
    "    print (f\"An error occured while reading the excel file: {str(e)}\")\n",
    "    # If we cant read the file, either because it is corrupt or the sheet has been renamed, we exit the program.\n",
    "    print(\"Check that sheet 1 in PLAD_LCA_DF_v1.0 sheet is still named 'plad' and the excel is not currently open when you run this notebook\")\n",
    "    exit(1)\n",
    "\n"
   ]
  },
  {
   "cell_type": "code",
   "execution_count": 3,
   "metadata": {},
   "outputs": [
    {
     "name": "stdout",
     "output_type": "stream",
     "text": [
      "Ready to go!\n"
     ]
    }
   ],
   "source": [
    "lcadb_path = input(\"please copy paste the file path where you have downloaded the plastic additive lca data finder LCA database (PLAD_LCA_DF_LCADB_vx.x) on your computer\")\n",
    "lcadb_path= lcadb_path.replace(\"\\\\\",\"/\").replace('\"','').replace(\"'\",\"\")\n",
    "lcadb_excel_file_path = lcadb_path\n",
    "# We identify the sheet we want to process into the data frame. If you change the sheet names you need to update this here. \n",
    "lcadb_sheet_name = 'readme'\n",
    "check = False\n",
    "# Now we are going to check that the file path provided was correct.\n",
    "while check == False: \n",
    "    try:\n",
    "        readme_df = pd.read_excel(lcadb_excel_file_path, sheet_name=lcadb_sheet_name)\n",
    "        #If everything works we return the data frame (df).\n",
    "        check = True\n",
    "        print(\"Ready to go!\")\n",
    "    except FileNotFoundError:\n",
    "        print(f\"Excel file '{lcadb_excel_file_path}' not found.\")\n",
    "        # If the file is incorrect, we re-prompt the user.\n",
    "        path = input(\"please copy paste the file path where you have downloaded the plastic additive lca data finder LCA database (PLAD_LCADF_LCADB_v1.0.xlsx) on your computer\")\n",
    "    except Exception as e: \n",
    "        print (f\"An error occured while reading the excel file: {str(e)}\")\n",
    "        # If we cant read the file, either because it is corrupt or the sheet has been renamed, we exit the program.\n",
    "        print(\"Check that the first sheet in the PLAD_LCA_DF_LCADB_vx.x is still named 'readme' and the excel is not currently open when you run this notebook\")\n",
    "        exit (1)\n",
    "\n"
   ]
  },
  {
   "cell_type": "code",
   "execution_count": 12,
   "metadata": {},
   "outputs": [
    {
     "name": "stdout",
     "output_type": "stream",
     "text": [
      "Processing sheet: lca4e_23\n",
      "Processing sheet: lca4e_24\n"
     ]
    }
   ],
   "source": [
    "plad_df = pd.read_excel(plad_excel_file_path, sheet_name=plad_sheet_name)\n",
    "plad_column_name = 'CASRN'\n",
    "lcadb_cas_column = 'CASRN'\n",
    "lcadb_sheet_name = ['lca4e_23', 'lca4e_24', 'cm_22', 'cm_24', 'ei_391_uao', 'ei_391_co', 'ei_391_apos', 'ei_391_conseq', 'ei_310_uao', 'ei_310_co', 'ei_310_apos', 'ei_310_conseq']\n",
    "matches=[]\n",
    "\n",
    "#update this file path with your desired destination\n",
    "outputfile = r\"C:\\Users\\healo\\OneDrive - Danmarks Tekniske Universitet\\Skrivebord\\PLAD_LCA_DF_v1.0\\PLAD_LCADF_output_v1.1.xlsx\"\n",
    "try:\n",
    "    for x in lcadb_sheet_name:\n",
    "        matches = []\n",
    "        print(f\"Processing sheet: {x}\")\n",
    "        \n",
    "        lcadb_tocheck_df = pd.read_excel(lcadb_excel_file_path, sheet_name=x)\n",
    "        \n",
    "        # Check if lcadb_tocheck_df or plad_df is empty\n",
    "        if lcadb_tocheck_df.empty:\n",
    "            print(f\"Warning: Sheet '{x}' is empty.\")\n",
    "            continue\n",
    "        \n",
    "        for value in plad_df[plad_column_name]:\n",
    "            if any(value in str(cell) for cell in lcadb_tocheck_df[lcadb_cas_column]):\n",
    "                matches.append(1)\n",
    "            else:\n",
    "                matches.append(0)\n",
    "        \n",
    "        plad_df[x] = matches\n",
    "    \n",
    "    outputfile = r\"C:\\Users\\healo\\OneDrive - Danmarks Tekniske Universitet\\Skrivebord\\PLAD_LCA_DF_v1.0\\PLAD_LCADF_output_v1.1.xlsx\"\n",
    "    print(f\"Saving to output file: {outputfile}\")\n",
    "    plad_df.to_excel(outputfile, index=False)\n",
    "    print(\"Processing complete.\")\n",
    "\n",
    "except Exception as e:\n",
    "    print(f\"An error occurred: {e}\")"
   ]
  }
 ],
 "metadata": {
  "kernelspec": {
   "display_name": "ab0524",
   "language": "python",
   "name": "python3"
  },
  "language_info": {
   "codemirror_mode": {
    "name": "ipython",
    "version": 3
   },
   "file_extension": ".py",
   "mimetype": "text/x-python",
   "name": "python",
   "nbconvert_exporter": "python",
   "pygments_lexer": "ipython3",
   "version": "3.11.9"
  }
 },
 "nbformat": 4,
 "nbformat_minor": 2
}
